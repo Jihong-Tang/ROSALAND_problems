{
 "metadata": {
  "language_info": {
   "codemirror_mode": {
    "name": "ipython",
    "version": 3
   },
   "file_extension": ".py",
   "mimetype": "text/x-python",
   "name": "python",
   "nbconvert_exporter": "python",
   "pygments_lexer": "ipython3",
   "version": "3.7.3"
  },
  "orig_nbformat": 2,
  "kernelspec": {
   "name": "python373jvsc74a57bd031f2aee4e71d21fbe5cf8b01ff0e069b9275f58929596ceb00d14d90e3e16cd6",
   "display_name": "Python 3.7.3 64-bit"
  },
  "metadata": {
   "interpreter": {
    "hash": "31f2aee4e71d21fbe5cf8b01ff0e069b9275f58929596ceb00d14d90e3e16cd6"
   }
  }
 },
 "nbformat": 4,
 "nbformat_minor": 2,
 "cells": [
  {
   "source": [
    "# Problem 1-1\n",
    "![Problem 1-1](./figures/Problem1-1.png)"
   ],
   "cell_type": "markdown",
   "metadata": {}
  },
  {
   "source": [
    "def PatternCount(Text, Pattern):\n",
    "    count = 0\n",
    "    for i in range(len(Text) - len(Pattern)):\n",
    "        if Text[i:i+len(Pattern)] == Pattern:\n",
    "            count += 1\n",
    "    return count\n",
    "\n",
    "if __name__ == '__main__':\n",
    "    str = 'CATGAAGAACGTTTAGAACGTGGAGAACGTAGAACGTGTTAGAACGTCCTAGAACGTTTCTTCAACAGAACGTGCCCGCACAGAACGTAGAACGTCACGCAGAACGTAAAGAACGTAGAACGTGCATACCCCGAGAACGTACAGAACGTAGAACGTACAGAACGTAGAACGTTGAGAACGTAGAACGTAGAACGTATCGAGAACGTAAGAGAACGTACTTAGAACGTTAAGAACGTGAGAACGTCCAAGAGAACGTTAGAACGTGAGAACGTAAGAACGTAGAACGTAGAACGTGAGAACGTCCGTGCCAGAACGTGCTAGAACGTGCAGAACGTAGAACGTTAGAACGTAGAACGTAGAACGTTATCGGAGAACGTCTAGAACGTTAGCAGTGAGAACGTAAGAACGTCTAAGAACGTCCGAGAACGTTAGAACGTTAGAACGTAGAACGTGTGAGAACGTTAAGGGAATGCTTGAAGAGAACGTTCAAAAGAGAACGTAGAACGTCAGAACGTTACAAAGAACGTAGAACGTAAGAACGTAGAACGTGCAAAAGAACGTAGAACGTCAATGATAAGAACGTAGAACGTTAGAACGTGTGATAACCGGGGCAGAACGTGAGAACGTGGCGAGAACGTTCAGAACGTAGAACGTAGAACGTAGCAGAACGTTAGAACGTTAGAACGTGAAGAACGTCCCACTAGAACGTTAAGAACGTAAACGTGTCAGAACGTGAACTCTAGCATAGAACGTCTGAGAACGTAGAACGTCTCAGAACGTTACAGAACGTTGTAGAACGTAGAACGTTAGAACGTAGAACGTTTTAAAGAACGTGCAAGAACGTAGAACGTAATACAGAACGTGAGAACGTACTTTAAGAACGTGAGAACGTTCGGCCGCAAGTGAGAACGTTAGAACGTTTCAAGTGAGATAGA'\n",
    "    pattern = 'AGAACGTAG'\n",
    "    print(PatternCount(str, pattern))"
   ],
   "cell_type": "code",
   "metadata": {},
   "execution_count": 14,
   "outputs": [
    {
     "output_type": "stream",
     "name": "stdout",
     "text": [
      "25\n"
     ]
    }
   ]
  },
  {
   "cell_type": "code",
   "execution_count": null,
   "metadata": {},
   "outputs": [],
   "source": []
  }
 ]
}