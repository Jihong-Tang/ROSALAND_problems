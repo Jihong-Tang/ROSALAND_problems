{
 "metadata": {
  "language_info": {
   "codemirror_mode": {
    "name": "ipython",
    "version": 3
   },
   "file_extension": ".py",
   "mimetype": "text/x-python",
   "name": "python",
   "nbconvert_exporter": "python",
   "pygments_lexer": "ipython3",
   "version": "3.7.3"
  },
  "orig_nbformat": 2,
  "kernelspec": {
   "name": "python373jvsc74a57bd031f2aee4e71d21fbe5cf8b01ff0e069b9275f58929596ceb00d14d90e3e16cd6",
   "display_name": "Python 3.7.3 64-bit"
  },
  "metadata": {
   "interpreter": {
    "hash": "31f2aee4e71d21fbe5cf8b01ff0e069b9275f58929596ceb00d14d90e3e16cd6"
   }
  }
 },
 "nbformat": 4,
 "nbformat_minor": 2,
 "cells": [
  {
   "source": [
    "# Chapter 1.2 Hidden Messages in the Replication Origin\n",
    "\n",
    "## Problem 1-1\n",
    "![Problem 1-1](./figures/Problem1-1.png)"
   ],
   "cell_type": "markdown",
   "metadata": {}
  },
  {
   "source": [
    "def PatternCount(Text, Pattern):\n",
    "    count = 0\n",
    "    for i in range(len(Text) - len(Pattern)):\n",
    "        if Text[i:i+len(Pattern)] == Pattern:\n",
    "            count += 1\n",
    "    return count\n",
    "\n",
    "if __name__ == '__main__':\n",
    "    str = 'CATGAAGAACGTTTAGAACGTGGAGAACGTAGAACGTGTTAGAACGTCCTAGAACGTTTCTTCAACAGAACGTGCCCGCACAGAACGTAGAACGTCACGCAGAACGTAAAGAACGTAGAACGTGCATACCCCGAGAACGTACAGAACGTAGAACGTACAGAACGTAGAACGTTGAGAACGTAGAACGTAGAACGTATCGAGAACGTAAGAGAACGTACTTAGAACGTTAAGAACGTGAGAACGTCCAAGAGAACGTTAGAACGTGAGAACGTAAGAACGTAGAACGTAGAACGTGAGAACGTCCGTGCCAGAACGTGCTAGAACGTGCAGAACGTAGAACGTTAGAACGTAGAACGTAGAACGTTATCGGAGAACGTCTAGAACGTTAGCAGTGAGAACGTAAGAACGTCTAAGAACGTCCGAGAACGTTAGAACGTTAGAACGTAGAACGTGTGAGAACGTTAAGGGAATGCTTGAAGAGAACGTTCAAAAGAGAACGTAGAACGTCAGAACGTTACAAAGAACGTAGAACGTAAGAACGTAGAACGTGCAAAAGAACGTAGAACGTCAATGATAAGAACGTAGAACGTTAGAACGTGTGATAACCGGGGCAGAACGTGAGAACGTGGCGAGAACGTTCAGAACGTAGAACGTAGAACGTAGCAGAACGTTAGAACGTTAGAACGTGAAGAACGTCCCACTAGAACGTTAAGAACGTAAACGTGTCAGAACGTGAACTCTAGCATAGAACGTCTGAGAACGTAGAACGTCTCAGAACGTTACAGAACGTTGTAGAACGTAGAACGTTAGAACGTAGAACGTTTTAAAGAACGTGCAAGAACGTAGAACGTAATACAGAACGTGAGAACGTACTTTAAGAACGTGAGAACGTTCGGCCGCAAGTGAGAACGTTAGAACGTTTCAAGTGAGATAGA'\n",
    "    pattern = 'AGAACGTAG'\n",
    "    print(PatternCount(str, pattern))"
   ],
   "cell_type": "code",
   "metadata": {},
   "execution_count": 2,
   "outputs": [
    {
     "output_type": "stream",
     "name": "stdout",
     "text": [
      "25\n"
     ]
    }
   ]
  },
  {
   "source": [
    "## Problem 1-2 \n",
    "![Problem 1-2](./figures/Problem1-2.png)\n",
    "![BetterFrequentWords](./figures/BetterFrequentWords.png)\n",
    "![FrequencyTable](./figures/FrequencyTable.png)\n",
    "\n"
   ],
   "cell_type": "markdown",
   "metadata": {}
  },
  {
   "cell_type": "code",
   "execution_count": 12,
   "metadata": {},
   "outputs": [
    {
     "output_type": "stream",
     "name": "stdout",
     "text": [
      "CACCCGTGTCTTGA CCACCCGTGTCTTG\n"
     ]
    }
   ],
   "source": [
    "import math # use infinity number \n",
    "\n",
    "def FrequencyTable(Text, k):\n",
    "    freq = {}\n",
    "    n = len(Text)\n",
    "    for i in range(n - k):\n",
    "        pattern = Text[i:i+k]\n",
    "        if pattern not in freq:\n",
    "            freq[pattern] = 1\n",
    "        else:\n",
    "            freq[pattern] += 1\n",
    "    return freq\n",
    "\n",
    "def MaxMap(freqMap):\n",
    "    max = -math.inf\n",
    "    for value in freqMap.values():\n",
    "        if value > max:\n",
    "            max = value\n",
    "    return max\n",
    "\n",
    "def BetterFrequentWords(Text, k):\n",
    "    freqPattern = []\n",
    "    freqMap = FrequencyTable(Text, k)\n",
    "    max = MaxMap(freqMap)\n",
    "    for key in freqMap.keys():\n",
    "        if freqMap[key] == max:\n",
    "            freqPattern.append(key)\n",
    "    return freqPattern\n",
    "\n",
    "if __name__ == '__main__':\n",
    "    Text = 'CCACCCGTGTCTTGAAGTCCTAGACGGACGTGATAGAAAGTTCCACCCGTGTCTTGACCACCCGTAGAAAGTTTAGAAAGTTCCACCCGTAGAAAGTTTGTCTTGAAGTCCTAGATGTCTTGAAGTCCTAGATGTCTTGAAGTCCTAGAAGTCCTAGACGGACGTGATAGAAAGTTTGTCTTGACCACCCGTAGAAAGTTTAGAAAGTTCCACCCGCGGACGTGATGTCTTGACGGACGTGACGGACGTGAAGTCCTAGATAGAAAGTTAGTCCTAGATGTCTTGATGTCTTGATGTCTTGACCACCCGTAGAAAGTTCCACCCGAGTCCTAGATAGAAAGTTCGGACGTGACGGACGTGATGTCTTGAAGTCCTAGACCACCCGAGTCCTAGAAGTCCTAGACGGACGTGACCACCCGTAGAAAGTTAGTCCTAGACCACCCGCGGACGTGACCACCCGCCACCCGCCACCCGTGTCTTGAAGTCCTAGACCACCCGTGTCTTGACCACCCGTGTCTTGATGTCTTGATGTCTTGATAGAAAGTTCCACCCGTGTCTTGACCACCCGTAGAAAGTTTAGAAAGTTAGTCCTAGATAGAAAGTTAGTCCTAGATGTCTTGAAGTCCTAGACGGACGTGACGGACGTGACGGACGTGATAGAAAGTTTGTCTTGACCACCCGTGTCTTGACGGACGTGACGGACGTGACCACCCGCGGACGTGACGGACGTGATGTCTTGACGGACGTGACCACCCGTGTCTTGAAGTCCTAGACGGACGTGACCACCCGTGTCTTGACCACCCG'\n",
    "    k = 14\n",
    "    freqPattern = BetterFrequentWords(Text, k)\n",
    "    freqPattern.sort()\n",
    "    res = ''\n",
    "    for i in range(len(freqPattern)-1):\n",
    "        res += freqPattern[i]\n",
    "        res += ' '\n",
    "    res += freqPattern[len(freqPattern)-1]\n",
    "    print(res)"
   ]
  },
  {
   "source": [
    "# Chapter 1.3 Some Hidden Messages are More Surprising than Others\n",
    "## Problem 1-3 "
   ],
   "cell_type": "markdown",
   "metadata": {}
  }
 ]
}