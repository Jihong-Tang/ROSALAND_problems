{
 "metadata": {
  "language_info": {
   "codemirror_mode": {
    "name": "ipython",
    "version": 3
   },
   "file_extension": ".py",
   "mimetype": "text/x-python",
   "name": "python",
   "nbconvert_exporter": "python",
   "pygments_lexer": "ipython3",
   "version": "3.7.3"
  },
  "orig_nbformat": 2,
  "kernelspec": {
   "name": "python373jvsc74a57bd031f2aee4e71d21fbe5cf8b01ff0e069b9275f58929596ceb00d14d90e3e16cd6",
   "display_name": "Python 3.7.3 64-bit"
  },
  "metadata": {
   "interpreter": {
    "hash": "31f2aee4e71d21fbe5cf8b01ff0e069b9275f58929596ceb00d14d90e3e16cd6"
   }
  }
 },
 "nbformat": 4,
 "nbformat_minor": 2,
 "cells": [
  {
   "source": [
    "# Chapter 1.2 Hidden Messages in the Replication Origin\n",
    "\n",
    "## Problem 1-1\n",
    "![Problem 1-1](./figures/Problem1-1.png)"
   ],
   "cell_type": "markdown",
   "metadata": {}
  },
  {
   "source": [
    "\"\"\"\n",
    "CODE CHALLENGE: Implement PatternCount:\n",
    "     Input: Strings Text and Pattern.\n",
    "     Output: Count(Text, Pattern).\n",
    "\"\"\"\n",
    "def PatternCount(Text, Pattern):\n",
    "    count = 0\n",
    "    for i in range(len(Text) - len(Pattern)):\n",
    "        if Text[i:i+len(Pattern)] == Pattern:\n",
    "            count += 1\n",
    "    return count\n",
    "\n",
    "if __name__ == '__main__':\n",
    "    str = 'CATGAAGAACGTTTAGAACGTGGAGAACGTAGAACGTGTTAGAACGTCCTAGAACGTTTCTTCAACAGAACGTGCCCGCACAGAACGTAGAACGTCACGCAGAACGTAAAGAACGTAGAACGTGCATACCCCGAGAACGTACAGAACGTAGAACGTACAGAACGTAGAACGTTGAGAACGTAGAACGTAGAACGTATCGAGAACGTAAGAGAACGTACTTAGAACGTTAAGAACGTGAGAACGTCCAAGAGAACGTTAGAACGTGAGAACGTAAGAACGTAGAACGTAGAACGTGAGAACGTCCGTGCCAGAACGTGCTAGAACGTGCAGAACGTAGAACGTTAGAACGTAGAACGTAGAACGTTATCGGAGAACGTCTAGAACGTTAGCAGTGAGAACGTAAGAACGTCTAAGAACGTCCGAGAACGTTAGAACGTTAGAACGTAGAACGTGTGAGAACGTTAAGGGAATGCTTGAAGAGAACGTTCAAAAGAGAACGTAGAACGTCAGAACGTTACAAAGAACGTAGAACGTAAGAACGTAGAACGTGCAAAAGAACGTAGAACGTCAATGATAAGAACGTAGAACGTTAGAACGTGTGATAACCGGGGCAGAACGTGAGAACGTGGCGAGAACGTTCAGAACGTAGAACGTAGAACGTAGCAGAACGTTAGAACGTTAGAACGTGAAGAACGTCCCACTAGAACGTTAAGAACGTAAACGTGTCAGAACGTGAACTCTAGCATAGAACGTCTGAGAACGTAGAACGTCTCAGAACGTTACAGAACGTTGTAGAACGTAGAACGTTAGAACGTAGAACGTTTTAAAGAACGTGCAAGAACGTAGAACGTAATACAGAACGTGAGAACGTACTTTAAGAACGTGAGAACGTTCGGCCGCAAGTGAGAACGTTAGAACGTTTCAAGTGAGATAGA'\n",
    "    pattern = 'AGAACGTAG'\n",
    "    print(PatternCount(str, pattern))"
   ],
   "cell_type": "code",
   "metadata": {},
   "execution_count": 2,
   "outputs": [
    {
     "output_type": "stream",
     "name": "stdout",
     "text": [
      "25\n"
     ]
    }
   ]
  },
  {
   "source": [
    "## Problem 1-2 \n",
    "\n",
    "![BetterFrequentWords](./figures/BetterFrequentWords.png)\n",
    "![FrequencyTable](./figures/FrequencyTable.png)\n",
    "\n"
   ],
   "cell_type": "markdown",
   "metadata": {}
  },
  {
   "cell_type": "code",
   "execution_count": 12,
   "metadata": {},
   "outputs": [
    {
     "output_type": "stream",
     "name": "stdout",
     "text": [
      "CACCCGTGTCTTGA CCACCCGTGTCTTG\n"
     ]
    }
   ],
   "source": [
    "\"\"\"\n",
    "Code Challenge: Solve the Frequent Words Problem.\n",
    "    Input: A string Text and an integer k.\n",
    "    Output: All most frequent k-mers in Text.\n",
    "\"\"\"\n",
    "import math # use infinity number \n",
    "\n",
    "def FrequencyTable(Text, k):\n",
    "    freq = {}\n",
    "    n = len(Text)\n",
    "    for i in range(n - k):\n",
    "        pattern = Text[i:i+k]\n",
    "        if pattern not in freq:\n",
    "            freq[pattern] = 1\n",
    "        else:\n",
    "            freq[pattern] += 1\n",
    "    return freq\n",
    "\n",
    "def MaxMap(freqMap):\n",
    "    max = -math.inf\n",
    "    for value in freqMap.values():\n",
    "        if value > max:\n",
    "            max = value\n",
    "    return max\n",
    "\n",
    "def BetterFrequentWords(Text, k):\n",
    "    freqPattern = []\n",
    "    freqMap = FrequencyTable(Text, k)\n",
    "    max = MaxMap(freqMap)\n",
    "    for key in freqMap.keys():\n",
    "        if freqMap[key] == max:\n",
    "            freqPattern.append(key)\n",
    "    return freqPattern\n",
    "\n",
    "if __name__ == '__main__':\n",
    "    Text = 'CCACCCGTGTCTTGAAGTCCTAGACGGACGTGATAGAAAGTTCCACCCGTGTCTTGACCACCCGTAGAAAGTTTAGAAAGTTCCACCCGTAGAAAGTTTGTCTTGAAGTCCTAGATGTCTTGAAGTCCTAGATGTCTTGAAGTCCTAGAAGTCCTAGACGGACGTGATAGAAAGTTTGTCTTGACCACCCGTAGAAAGTTTAGAAAGTTCCACCCGCGGACGTGATGTCTTGACGGACGTGACGGACGTGAAGTCCTAGATAGAAAGTTAGTCCTAGATGTCTTGATGTCTTGATGTCTTGACCACCCGTAGAAAGTTCCACCCGAGTCCTAGATAGAAAGTTCGGACGTGACGGACGTGATGTCTTGAAGTCCTAGACCACCCGAGTCCTAGAAGTCCTAGACGGACGTGACCACCCGTAGAAAGTTAGTCCTAGACCACCCGCGGACGTGACCACCCGCCACCCGCCACCCGTGTCTTGAAGTCCTAGACCACCCGTGTCTTGACCACCCGTGTCTTGATGTCTTGATGTCTTGATAGAAAGTTCCACCCGTGTCTTGACCACCCGTAGAAAGTTTAGAAAGTTAGTCCTAGATAGAAAGTTAGTCCTAGATGTCTTGAAGTCCTAGACGGACGTGACGGACGTGACGGACGTGATAGAAAGTTTGTCTTGACCACCCGTGTCTTGACGGACGTGACGGACGTGACCACCCGCGGACGTGACGGACGTGATGTCTTGACGGACGTGACCACCCGTGTCTTGAAGTCCTAGACGGACGTGACCACCCGTGTCTTGACCACCCG'\n",
    "    k = 14\n",
    "    freqPattern = BetterFrequentWords(Text, k)\n",
    "    freqPattern.sort()\n",
    "    res = ''\n",
    "    for i in range(len(freqPattern)-1):\n",
    "        res += freqPattern[i]\n",
    "        res += ' '\n",
    "    res += freqPattern[len(freqPattern)-1]\n",
    "    print(res)"
   ]
  },
  {
   "source": [
    "# Chapter 1.3 Some Hidden Messages are More Surprising than Others\n",
    "## Problem 1-3 "
   ],
   "cell_type": "markdown",
   "metadata": {}
  },
  {
   "cell_type": "code",
   "execution_count": 19,
   "metadata": {},
   "outputs": [
    {
     "output_type": "stream",
     "name": "stdout",
     "text": [
      "TGGAAATCAAAAAGCGTTCGACC\n"
     ]
    }
   ],
   "source": [
    "\"\"\"\n",
    "Reverse Complement Problem: Find the reverse complement of a DNA string.\n",
    "     Input: A DNA string Pattern.\n",
    "     Output: Pattern, the reverse complement of Pattern.\n",
    "\"\"\"\n",
    "def reverse_comp(DNA):\n",
    "    DNA_reverse_dict = {'A': 'T', 'C': 'G', 'T': 'A', 'G': 'C'}\n",
    "    return ''.join(DNA_reverse_dict[n] for n in reversed(DNA))\n",
    "\n",
    "if __name__ == '__main__':\n",
    "    DNA = 'GGTCGAACGCTTTTTGATTTCCA'\n",
    "    print(reverse_comp(DNA))\n"
   ]
  },
  {
   "source": [
    "## Problem 1-4\n"
   ],
   "cell_type": "markdown",
   "metadata": {}
  },
  {
   "cell_type": "code",
   "execution_count": 17,
   "metadata": {},
   "outputs": [
    {
     "output_type": "error",
     "ename": "TypeError",
     "evalue": "can only join an iterable",
     "traceback": [
      "\u001b[0;31m---------------------------------------------------------------------------\u001b[0m",
      "\u001b[0;31mTypeError\u001b[0m                                 Traceback (most recent call last)",
      "\u001b[0;32m<ipython-input-17-4c7076bff64e>\u001b[0m in \u001b[0;36m<module>\u001b[0;34m\u001b[0m\n\u001b[1;32m      6\u001b[0m     \u001b[0mpattern\u001b[0m \u001b[0;34m=\u001b[0m \u001b[0;34m'ATAT'\u001b[0m\u001b[0;34m\u001b[0m\u001b[0;34m\u001b[0m\u001b[0m\n\u001b[1;32m      7\u001b[0m     \u001b[0mgenome\u001b[0m \u001b[0;34m=\u001b[0m \u001b[0;34m'GATATATGCATATACTT'\u001b[0m\u001b[0;34m\u001b[0m\u001b[0;34m\u001b[0m\u001b[0m\n\u001b[0;32m----> 8\u001b[0;31m     \u001b[0mprint\u001b[0m\u001b[0;34m(\u001b[0m\u001b[0;34m''\u001b[0m\u001b[0;34m.\u001b[0m\u001b[0mjoin\u001b[0m\u001b[0;34m(\u001b[0m\u001b[0mre\u001b[0m\u001b[0;34m.\u001b[0m\u001b[0msearch\u001b[0m\u001b[0;34m(\u001b[0m\u001b[0mpattern\u001b[0m\u001b[0;34m,\u001b[0m \u001b[0mgenome\u001b[0m\u001b[0;34m)\u001b[0m\u001b[0;34m.\u001b[0m\u001b[0mstart\u001b[0m\u001b[0;34m(\u001b[0m\u001b[0;34m)\u001b[0m\u001b[0;34m)\u001b[0m\u001b[0;34m)\u001b[0m\u001b[0;34m\u001b[0m\u001b[0;34m\u001b[0m\u001b[0m\n\u001b[0m\u001b[1;32m      9\u001b[0m \u001b[0;34m\u001b[0m\u001b[0m\n\u001b[1;32m     10\u001b[0m     \u001b[0mprint\u001b[0m\u001b[0;34m(\u001b[0m\u001b[0mPattern_Match\u001b[0m\u001b[0;34m(\u001b[0m\u001b[0mpattern\u001b[0m\u001b[0;34m,\u001b[0m \u001b[0mgenome\u001b[0m\u001b[0;34m)\u001b[0m\u001b[0;34m)\u001b[0m\u001b[0;34m\u001b[0m\u001b[0;34m\u001b[0m\u001b[0m\n",
      "\u001b[0;31mTypeError\u001b[0m: can only join an iterable"
     ]
    }
   ],
   "source": [
    "\"\"\"\n",
    "Code Challenge: Solve the Pattern Matching Problem.\n",
    "    Input: Two strings, Pattern and Genome.\n",
    "    Output: A collection of space-separated integers specifying all starting positions \n",
    "    where Pattern appears as a substring of Genome.\n",
    "\"\"\"\n",
    "def Pattern_Match(pattern, genome):\n",
    "    return ''\n",
    "\n",
    "if __name__ == '__main__':\n",
    "    pattern = 'ATAT'\n",
    "    genome = 'GATATATGCATATACTT'\n",
    "    print(Pattern_Match(pattern, genome))"
   ]
  },
  {
   "cell_type": "code",
   "execution_count": null,
   "metadata": {},
   "outputs": [],
   "source": []
  }
 ]
}