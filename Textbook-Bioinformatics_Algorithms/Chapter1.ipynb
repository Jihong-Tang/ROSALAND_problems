{
 "metadata": {
  "language_info": {
   "codemirror_mode": {
    "name": "ipython",
    "version": 3
   },
   "file_extension": ".py",
   "mimetype": "text/x-python",
   "name": "python",
   "nbconvert_exporter": "python",
   "pygments_lexer": "ipython3",
   "version": "3.7.3"
  },
  "orig_nbformat": 2,
  "kernelspec": {
   "name": "python373jvsc74a57bd031f2aee4e71d21fbe5cf8b01ff0e069b9275f58929596ceb00d14d90e3e16cd6",
   "display_name": "Python 3.7.3 64-bit"
  },
  "metadata": {
   "interpreter": {
    "hash": "31f2aee4e71d21fbe5cf8b01ff0e069b9275f58929596ceb00d14d90e3e16cd6"
   }
  }
 },
 "nbformat": 4,
 "nbformat_minor": 2,
 "cells": [
  {
   "source": [
    "# Chapter 1.2 Hidden Messages in the Replication Origin\n",
    "\n",
    "## Problem 1-1\n",
    "![Problem 1-1](./figures/Problem1-1.png)"
   ],
   "cell_type": "code",
   "metadata": {},
   "execution_count": null,
   "outputs": []
  },
  {
   "source": [
    "\"\"\"\n",
    "CODE CHALLENGE: Implement PatternCount:\n",
    "     Input: Strings Text and Pattern.\n",
    "     Output: Count(Text, Pattern).\n",
    "\"\"\"\n",
    "def PatternCount(Text, Pattern):\n",
    "    count = 0\n",
    "    for i in range(len(Text) - len(Pattern)):\n",
    "        if Text[i:i+len(Pattern)] == Pattern:\n",
    "            count += 1\n",
    "    return count\n",
    "\n",
    "if __name__ == '__main__':\n",
    "    str = 'CATGAAGAACGTTTAGAACGTGGAGAACGTAGAACGTGTTAGAACGTCCTAGAACGTTTCTTCAACAGAACGTGCCCGCACAGAACGTAGAACGTCACGCAGAACGTAAAGAACGTAGAACGTGCATACCCCGAGAACGTACAGAACGTAGAACGTACAGAACGTAGAACGTTGAGAACGTAGAACGTAGAACGTATCGAGAACGTAAGAGAACGTACTTAGAACGTTAAGAACGTGAGAACGTCCAAGAGAACGTTAGAACGTGAGAACGTAAGAACGTAGAACGTAGAACGTGAGAACGTCCGTGCCAGAACGTGCTAGAACGTGCAGAACGTAGAACGTTAGAACGTAGAACGTAGAACGTTATCGGAGAACGTCTAGAACGTTAGCAGTGAGAACGTAAGAACGTCTAAGAACGTCCGAGAACGTTAGAACGTTAGAACGTAGAACGTGTGAGAACGTTAAGGGAATGCTTGAAGAGAACGTTCAAAAGAGAACGTAGAACGTCAGAACGTTACAAAGAACGTAGAACGTAAGAACGTAGAACGTGCAAAAGAACGTAGAACGTCAATGATAAGAACGTAGAACGTTAGAACGTGTGATAACCGGGGCAGAACGTGAGAACGTGGCGAGAACGTTCAGAACGTAGAACGTAGAACGTAGCAGAACGTTAGAACGTTAGAACGTGAAGAACGTCCCACTAGAACGTTAAGAACGTAAACGTGTCAGAACGTGAACTCTAGCATAGAACGTCTGAGAACGTAGAACGTCTCAGAACGTTACAGAACGTTGTAGAACGTAGAACGTTAGAACGTAGAACGTTTTAAAGAACGTGCAAGAACGTAGAACGTAATACAGAACGTGAGAACGTACTTTAAGAACGTGAGAACGTTCGGCCGCAAGTGAGAACGTTAGAACGTTTCAAGTGAGATAGA'\n",
    "    pattern = 'AGAACGTAG'\n",
    "    print(PatternCount(str, pattern))"
   ],
   "cell_type": "code",
   "metadata": {},
   "execution_count": 2,
   "outputs": [
    {
     "output_type": "stream",
     "name": "stdout",
     "text": [
      "25\n"
     ]
    }
   ]
  },
  {
   "source": [
    "## Problem 1-2 \n",
    "\n",
    "![BetterFrequentWords](./figures/BetterFrequentWords.png)\n",
    "![FrequencyTable](./figures/FrequencyTable.png)\n",
    "\n"
   ],
   "cell_type": "markdown",
   "metadata": {}
  },
  {
   "cell_type": "code",
   "execution_count": 39,
   "metadata": {},
   "outputs": [
    {
     "output_type": "stream",
     "name": "stdout",
     "text": [
      "CACCCGTGTCTTGA CCACCCGTGTCTTG\n"
     ]
    }
   ],
   "source": [
    "\"\"\"\n",
    "Code Challenge: Solve the Frequent Words Problem.\n",
    "    Input: A string Text and an integer k.\n",
    "    Output: All most frequent k-mers in Text.\n",
    "\"\"\"\n",
    "import math # use infinity number \n",
    "\n",
    "def FrequencyTable(Text, k):\n",
    "    freq = {}\n",
    "    n = len(Text)\n",
    "    for i in range(n - k):\n",
    "        pattern = Text[i:i+k]\n",
    "        if pattern not in freq:\n",
    "            freq[pattern] = 1\n",
    "        else:\n",
    "            freq[pattern] += 1\n",
    "    return freq\n",
    "\n",
    "def MaxMap(freqMap):\n",
    "    max = -math.inf\n",
    "    for value in freqMap.values():\n",
    "        if value > max:\n",
    "            max = value\n",
    "    return max\n",
    "\n",
    "def BetterFrequentWords(Text, k):\n",
    "    freqPattern = []\n",
    "    freqMap = FrequencyTable(Text, k)\n",
    "    max = MaxMap(freqMap)\n",
    "    for key in freqMap.keys():\n",
    "        if freqMap[key] == max:\n",
    "            freqPattern.append(key)\n",
    "    return freqPattern\n",
    "\n",
    "if __name__ == '__main__':\n",
    "    Text = 'CCACCCGTGTCTTGAAGTCCTAGACGGACGTGATAGAAAGTTCCACCCGTGTCTTGACCACCCGTAGAAAGTTTAGAAAGTTCCACCCGTAGAAAGTTTGTCTTGAAGTCCTAGATGTCTTGAAGTCCTAGATGTCTTGAAGTCCTAGAAGTCCTAGACGGACGTGATAGAAAGTTTGTCTTGACCACCCGTAGAAAGTTTAGAAAGTTCCACCCGCGGACGTGATGTCTTGACGGACGTGACGGACGTGAAGTCCTAGATAGAAAGTTAGTCCTAGATGTCTTGATGTCTTGATGTCTTGACCACCCGTAGAAAGTTCCACCCGAGTCCTAGATAGAAAGTTCGGACGTGACGGACGTGATGTCTTGAAGTCCTAGACCACCCGAGTCCTAGAAGTCCTAGACGGACGTGACCACCCGTAGAAAGTTAGTCCTAGACCACCCGCGGACGTGACCACCCGCCACCCGCCACCCGTGTCTTGAAGTCCTAGACCACCCGTGTCTTGACCACCCGTGTCTTGATGTCTTGATGTCTTGATAGAAAGTTCCACCCGTGTCTTGACCACCCGTAGAAAGTTTAGAAAGTTAGTCCTAGATAGAAAGTTAGTCCTAGATGTCTTGAAGTCCTAGACGGACGTGACGGACGTGACGGACGTGATAGAAAGTTTGTCTTGACCACCCGTGTCTTGACGGACGTGACGGACGTGACCACCCGCGGACGTGACGGACGTGATGTCTTGACGGACGTGACCACCCGTGTCTTGAAGTCCTAGACGGACGTGACCACCCGTGTCTTGACCACCCG'\n",
    "    k = 14\n",
    "    freqPattern = BetterFrequentWords(Text, k)\n",
    "    freqPattern.sort()\n",
    "    res = ''\n",
    "    for i in range(len(freqPattern)-1):\n",
    "        res += freqPattern[i]\n",
    "        res += ' '\n",
    "    res += freqPattern[len(freqPattern)-1]\n",
    "    print(res)"
   ]
  },
  {
   "source": [
    "# Chapter 1.3 Some Hidden Messages are More Surprising than Others\n",
    "## Problem 1-3 "
   ],
   "cell_type": "markdown",
   "metadata": {}
  },
  {
   "cell_type": "code",
   "execution_count": 37,
   "metadata": {},
   "outputs": [
    {
     "output_type": "stream",
     "name": "stdout",
     "text": [
      "TGGAAATCAAAAAGCGTTCGACC\n"
     ]
    }
   ],
   "source": [
    "\"\"\"\n",
    "Reverse Complement Problem: Find the reverse complement of a DNA string.\n",
    "     Input: A DNA string Pattern.\n",
    "     Output: Pattern, the reverse complement of Pattern.\n",
    "\"\"\"\n",
    "def reverse_comp(DNA):\n",
    "    DNA_reverse_dict = {'A': 'T', 'C': 'G', 'T': 'A', 'G': 'C'}\n",
    "    return ''.join(DNA_reverse_dict[n] for n in reversed(DNA))\n",
    "\n",
    "if __name__ == '__main__':\n",
    "    DNA = 'GGTCGAACGCTTTTTGATTTCCA'\n",
    "    print(reverse_comp(DNA))\n"
   ]
  },
  {
   "source": [
    "## Problem 1-4\n"
   ],
   "cell_type": "markdown",
   "metadata": {}
  },
  {
   "cell_type": "code",
   "execution_count": 45,
   "metadata": {},
   "outputs": [
    {
     "output_type": "stream",
     "name": "stdout",
     "text": [
      "106 113 132 139 205 227 234 265 305 400 438 453 480 514 576 583 684 691 714 738 756 900 916 985 1017 1118 1157 1225 1249 1264 1283 1302 1321 1328 1364 1382 1432 1439 1523 1542 1549 1587 1594 1668 1742 1757 1904 1989 1996 2003 2082 2145 2152 2228 2255 2262 2295 2343 2368 2375 2400 2465 2502 2509 2535 2621 2639 2719 2751 2795 2808 2927 2934 2951 2970 2977 3004 3082 3151 3208 3215 3258 3323 3344 3360 3401 3485 3511 3559 3611 3665 3674 3783 3807 3910 3941 3996 4055 4097 4187 4207 4214 4269 4339 4362 4401 4412 4533 4549 4574 4637 4867 4893 4923 4965 4989 5004 5048 5079 5107 5114 5143 5152 5169 5199 5445 5490 5597 5628 5671 5718 5803 5901 6007 6014 6046 6085 6092 6165 6172 6219 6226 6245 6279 6327 6334 6349 6356 6363 6411 6471 6483 6490 6505 6524 6531 6538 6611 6643 6660 6744 6786 6816 6823 6839 6846 6853 6882 6889 6904 7079 7149 7168 7175 7182 7204 7248 7290 7297 7347 7354 7369 7445 7552 7582 7632 7639 7656 7706 7752 7803 7868 7875 7900 7907 7916 8007 8023 8068 8075 8122 8141\n"
     ]
    }
   ],
   "source": [
    "\"\"\"\n",
    "Code Challenge: Solve the Pattern Matching Problem.\n",
    "    Input: Two strings, Pattern and Genome.\n",
    "    Output: A collection of space-separated integers specifying all starting positions \n",
    "    where Pattern appears as a substring of Genome.\n",
    "\"\"\"\n",
    "def Pattern_Match(pattern, genome):\n",
    "    reidx = []\n",
    "    for i in range(len(genome) - len(pattern)):\n",
    "        if genome[i:i+len(pattern)] == pattern:\n",
    "            reidx.append(i)\n",
    "    return reidx\n",
    "\n",
    "def print_func(list, seperate):\n",
    "    res = ''\n",
    "    for i in range(len(list) - 1):\n",
    "        res += str(list[i])\n",
    "        res += seperate\n",
    "    res += str(list[len(list) - 1])\n",
    "    return res \n",
    "\n",
    "if __name__ == '__main__':\n",
    "    idx = 1\n",
    "    if idx:\n",
    "        filename = './dataset/dataset_240215_5.txt'\n",
    "        with open(filename) as f:\n",
    "            lines = f.read().splitlines()\n",
    "        pattern = lines[0]\n",
    "        genome = lines[1]\n",
    "    else:\n",
    "        pattern = 'ATAT'\n",
    "        genome = 'GATATATGCATATACTT'\n",
    "\n",
    "    Re = Pattern_Match(pattern, genome)\n",
    "    print(print_func(Re, ' '))\n"
   ]
  },
  {
   "source": [
    "# Chapter 1.4 An Explosion of Hidden Messages\n",
    "## Problem 1-5"
   ],
   "cell_type": "markdown",
   "metadata": {}
  },
  {
   "cell_type": "code",
   "execution_count": null,
   "metadata": {},
   "outputs": [],
   "source": []
  }
 ]
}